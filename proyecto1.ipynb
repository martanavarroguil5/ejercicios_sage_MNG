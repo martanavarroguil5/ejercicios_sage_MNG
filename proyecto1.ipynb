{
 "cells": [
  {
   "cell_type": "code",
   "execution_count": 11,
   "metadata": {
    "collapsed": false
   },
   "outputs": [
    {
     "data": {
      "text/plain": [
       "(7/8, 0.875)"
      ]
     },
     "execution_count": 11,
     "metadata": {
     },
     "output_type": "execute_result"
    }
   ],
   "source": [
    "# Divide 28 por 2 elevado a la quinta potencia como número racional y obtén después su aproximación decimal\n",
    "numero_racional = 28 / (2^5)\n",
    "numero_aproximado = round(numero_racional, 3)\n",
    "numero_racional, numero_aproximado"
   ]
  },
  {
   "cell_type": "code",
   "execution_count": 9,
   "metadata": {
    "collapsed": false
   },
   "outputs": [
    {
     "data": {
      "text/plain": [
       "1.414"
      ]
     },
     "execution_count": 9,
     "metadata": {
     },
     "output_type": "execute_result"
    }
   ],
   "source": [
    "# Obtén una aproximación decimal de raíz cuadrada de 2\n",
    "numero = round (sqrt (2), 3)\n",
    "numero"
   ]
  },
  {
   "cell_type": "code",
   "execution_count": 3,
   "metadata": {
    "collapsed": false
   },
   "outputs": [
    {
     "data": {
      "text/plain": [
       "3*I"
      ]
     },
     "execution_count": 3,
     "metadata": {
     },
     "output_type": "execute_result"
    }
   ],
   "source": [
    "#Calcula la raíz cuadrada de -9\n",
    "numero = sqrt (-9)\n",
    "numero"
   ]
  },
  {
   "cell_type": "code",
   "execution_count": 2,
   "metadata": {
    "collapsed": false
   },
   "outputs": [
    {
     "data": {
      "text/plain": [
       "(log(3)/log(2153693963075557766310747), 0.0196078431372549)"
      ]
     },
     "execution_count": 2,
     "metadata": {
     },
     "output_type": "execute_result"
    }
   ],
   "source": [
    "# Calcula el logaritmo en base 3 de 2153693963075557766310747\n",
    "numero = log (3, 2153693963075557766310747)\n",
    "numero_aproximado = float (numero)\n",
    "numero, numero_aproximado"
   ]
  },
  {
   "cell_type": "code",
   "execution_count": 5,
   "metadata": {
    "collapsed": false
   },
   "outputs": [
    {
     "data": {
      "text/plain": [
       "2.7182818284590452353602874713526624977572470937000"
      ]
     },
     "execution_count": 5,
     "metadata": {
     },
     "output_type": "execute_result"
    }
   ],
   "source": [
    "# Calcula las 50 primeras cifras decimales del número e\n",
    "numero = exp(1).n(digits=50)\n",
    "numero"
   ]
  },
  {
   "cell_type": "code",
   "execution_count": 6,
   "metadata": {
    "collapsed": false
   },
   "outputs": [
    {
     "data": {
      "text/plain": [
       "3.1415926535897932384626433832795028841971693993751058209749445923078164062862090"
      ]
     },
     "execution_count": 6,
     "metadata": {
     },
     "output_type": "execute_result"
    }
   ],
   "source": [
    "# Calcula las 80 primeras cifras decimales del número π\n",
    "numero = pi.n(digits=80)\n",
    "numero"
   ]
  },
  {
   "cell_type": "code",
   "execution_count": 9,
   "metadata": {
    "collapsed": false
   },
   "outputs": [
    {
     "data": {
      "text/plain": [
       "(9, 74)"
      ]
     },
     "execution_count": 9,
     "metadata": {
     },
     "output_type": "execute_result"
    }
   ],
   "source": [
    "# Obtén el cociente y el resto de dividir 956 entre 98\n",
    "numero = int (956 / 98)\n",
    "resto = 956 % 98\n",
    "numero, resto"
   ]
  },
  {
   "cell_type": "code",
   "execution_count": 10,
   "metadata": {
    "collapsed": false
   },
   "outputs": [
    {
     "data": {
      "text/plain": [
       "956"
      ]
     },
     "execution_count": 10,
     "metadata": {
     },
     "output_type": "execute_result"
    }
   ],
   "source": [
    "# Comprueba que el cociente y el resto obtenidos en el apartado anterior son correctos con la prueba de Euclides\n",
    "verificacion = 98 * numero + resto\n",
    "verificacion"
   ]
  },
  {
   "cell_type": "code",
   "execution_count": 11,
   "metadata": {
    "collapsed": false
   },
   "outputs": [
    {
     "data": {
      "text/plain": [
       "2"
      ]
     },
     "execution_count": 11,
     "metadata": {
     },
     "output_type": "execute_result"
    }
   ],
   "source": [
    "# Determina si 3 divide 234878\n",
    "resto = 234878 % 3\n",
    "resto\n",
    "# Si el resto es igual a 0,  234878 es divisible entre 3"
   ]
  },
  {
   "cell_type": "code",
   "execution_count": 14,
   "metadata": {
    "collapsed": false
   },
   "outputs": [
    {
     "name": "stdout",
     "output_type": "stream",
     "text": [
      "Divisores de 134: [1, 2, 67, 134]\n",
      "Divisores de 491: [1, 491]\n",
      "Divisores de 422: [1, 2, 211, 422]\n",
      "Divisores de 1002: [1, 2, 3, 6, 167, 334, 501, 1002]\n"
     ]
    }
   ],
   "source": [
    "# Calcula la lista de divisores de cada uno de los siguientes números enteros: 134, 491, 422 y 1002\n",
    "numeros = [134, 491, 422, 1002]\n",
    "\n",
    "for numero in numeros:\n",
    "    lista_divisores = divisors(numero)\n",
    "    print(f\"Divisores de {numero}: {lista_divisores}\")"
   ]
  },
  {
   "cell_type": "code",
   "execution_count": 17,
   "metadata": {
    "collapsed": false
   },
   "outputs": [
    {
     "name": "stdout",
     "output_type": "stream",
     "text": [
      "134 no es un número primo.\n",
      "491 es un número primo.\n",
      "422 no es un número primo.\n",
      "1002 no es un número primo.\n"
     ]
    }
   ],
   "source": [
    "# De los enteros del ejercicio anterior, ¿cuáles son números primos?\n",
    "numeros = [134, 491, 422, 1002]\n",
    "\n",
    "for numero in numeros:\n",
    "    es_primo = is_prime(numero)\n",
    "    if es_primo:\n",
    "        print(f\"{numero} es un número primo.\")\n",
    "    else:\n",
    "        print(f\"{numero} no es un número primo.\")"
   ]
  },
  {
   "cell_type": "code",
   "execution_count": 21,
   "metadata": {
    "collapsed": false
   },
   "outputs": [
    {
     "name": "stdout",
     "output_type": "stream",
     "text": [
      "MCD de 2 y 5: 1\n",
      "MCM de 2 y 5: 10\n",
      "--------------------\n",
      "MCD de 4 y 10: 2\n",
      "MCM de 4 y 10: 20\n",
      "--------------------\n",
      "MCD de 18 y 51: 3\n",
      "MCM de 18 y 51: 306\n",
      "--------------------\n"
     ]
    }
   ],
   "source": [
    "#Calcula el máximo común divisor (mcd) y el mínimo común múltiple (mcm) para los pares de números enteros (2,5), (4,10) y (18, 51).\n",
    "pares_numeros = [(2, 5), (4, 10), (18, 51)]\n",
    "\n",
    "for par in pares_numeros:\n",
    "    numero1, numero2 = par\n",
    "    mcd = gcd(numero1, numero2)\n",
    "    mcm = lcm(numero1, numero2)\n",
    "    \n",
    "    print(f\"MCD de {numero1} y {numero2}: {mcd}\")\n",
    "    print(f\"MCM de {numero1} y {numero2}: {mcm}\")\n",
    "    print(\"-\" * 20)"
   ]
  }
 ],
 "metadata": {
  "kernelspec": {
   "argv": [
    "sage-10.1",
    "--python",
    "-m",
    "sage.repl.ipython_kernel",
    "--matplotlib=inline",
    "-f",
    "{connection_file}"
   ],
   "display_name": "SageMath 10.1",
   "env": {
   },
   "language": "sagemath",
   "metadata": {
    "cocalc": {
     "description": "Open-source mathematical software system",
     "priority": 10,
     "url": "https://www.sagemath.org/"
    }
   },
   "name": "sage-10.1",
   "resource_dir": "/ext/jupyter/kernels/sage-10.1"
  },
  "language_info": {
   "codemirror_mode": {
    "name": "ipython",
    "version": 3
   },
   "file_extension": ".py",
   "mimetype": "text/x-python",
   "name": "python",
   "nbconvert_exporter": "python",
   "pygments_lexer": "ipython3",
   "version": "3.11.1"
  }
 },
 "nbformat": 4,
 "nbformat_minor": 4
}